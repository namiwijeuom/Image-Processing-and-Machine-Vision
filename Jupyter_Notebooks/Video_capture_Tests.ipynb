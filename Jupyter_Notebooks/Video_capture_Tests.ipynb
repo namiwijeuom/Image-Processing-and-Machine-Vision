{
 "cells": [
  {
   "cell_type": "markdown",
   "metadata": {},
   "source": [
    "# Video Capture and Processing"
   ]
  },
  {
   "cell_type": "code",
   "execution_count": 1,
   "metadata": {},
   "outputs": [],
   "source": [
    "#Importing the libraries\n",
    "import cv2 as cv\n",
    "import numpy as np\n",
    "import matplotlib.pyplot as plt"
   ]
  },
  {
   "cell_type": "markdown",
   "metadata": {},
   "source": [
    "## Video Capture Using OpenCV"
   ]
  },
  {
   "cell_type": "code",
   "execution_count": 3,
   "metadata": {},
   "outputs": [],
   "source": [
    "#video capture using opencv\n",
    "cap = cv.VideoCapture(0)\n",
    "\n",
    "#display the frame\n",
    "while True: \n",
    "    #Orignal frame\n",
    "    ret, frame = cap.read()\n",
    "    cv.imshow('frame', frame)\n",
    "    \n",
    "    #Convert to grayscale\n",
    "    gray = cv.cvtColor(frame, cv.COLOR_BGR2GRAY)\n",
    "    cv.imshow('gray', gray)\n",
    "\n",
    "    #Add a delay of 10ms and press q to quit\n",
    "    if cv.waitKey(10) & 0xFF == ord('q'):\n",
    "        break\n",
    "#Release the capture\n",
    "cap.release()\n",
    "cv.destroyAllWindows()"
   ]
  },
  {
   "cell_type": "markdown",
   "metadata": {},
   "source": [
    "## Mask for a Video Capture"
   ]
  },
  {
   "cell_type": "code",
   "execution_count": 2,
   "metadata": {},
   "outputs": [],
   "source": [
    "# Mask for a video capture\n",
    "# Detecting yellow color in the video using HSV color space\n",
    "cap = cv.VideoCapture(0)\n",
    "\n",
    "while True:\n",
    "\n",
    "    #Orignal frame\n",
    "    #ret - return value, frame - frame\n",
    "    ret, frame = cap.read()\n",
    "    cv.imshow('frame', frame)\n",
    "    \n",
    "    #Convert to hsv\n",
    "    hsv = cv.cvtColor(frame, cv.COLOR_BGR2HSV)\n",
    "    cv.imshow('hsv', hsv)\n",
    "\n",
    "    #lower and upper bound for the mask\n",
    "    lower_yellow = np.array([10,100,50])\n",
    "    upper_yellow = np.array([70,255,255])\n",
    "\n",
    "    #mask\n",
    "    mask = cv.inRange(hsv, lower_yellow, upper_yellow)\n",
    "    cv.imshow('mask', mask)\n",
    "\n",
    "    #bitwise and\n",
    "    res = cv.bitwise_and(frame, frame, mask = mask)\n",
    "    cv.imshow('res', res)\n",
    "\n",
    "    #Add a delay of 10ms and press q to quit\n",
    "    if cv.waitKey(10) & 0xFF == ord('q'):\n",
    "        break\n",
    "\n",
    "#Release the capture\n",
    "cap.release()   \n",
    "cv.destroyAllWindows()"
   ]
  },
  {
   "cell_type": "code",
   "execution_count": 5,
   "metadata": {},
   "outputs": [
    {
     "name": "stdout",
     "output_type": "stream",
     "text": [
      "Area: 101.0, Perimeter: 112.42640614509583\n",
      "Area: 213.5, Perimeter: 135.29646337032318\n",
      "Area: 288.5, Perimeter: 167.78174448013306\n",
      "Area: 365.0, Perimeter: 304.45079123973846\n",
      "Area: 75077.0, Perimeter: 5901.1133633852005\n",
      "Area: 144.0, Perimeter: 82.42640614509583\n",
      "Area: 126.0, Perimeter: 92.62741661071777\n",
      "Area: 66721.0, Perimeter: 5203.417845010757\n",
      "Area: 113.5, Perimeter: 81.01219272613525\n",
      "Area: 101.5, Perimeter: 141.15432798862457\n",
      "Area: 328.5, Perimeter: 150.6101714372635\n",
      "Area: 6514.0, Perimeter: 2304.8022875785828\n",
      "Area: 105.0, Perimeter: 75.94112479686737\n",
      "number of contours: 1179\n"
     ]
    }
   ],
   "source": [
    "#!/usr/bin/env python\n",
    "\n",
    "import numpy as np\n",
    "import cv2\n",
    "\n",
    "def read_rgb_image(image_name, show):\n",
    "    rgb_image = cv2.imread(image_name)\n",
    "    if show: \n",
    "        cv2.imshow(\"RGB Image\",rgb_image)\n",
    "    return rgb_image\n",
    "\n",
    "def filter_color(rgb_image, lower_bound_color, upper_bound_color):\n",
    "    #convert the image into the HSV color space\n",
    "    hsv_image = cv2.cvtColor(rgb_image, cv2.COLOR_BGR2HSV)\n",
    "    cv2.imshow(\"hsv image\",hsv_image)\n",
    "\n",
    "    #find the upper and lower bounds of the yellow color (tennis ball)\n",
    "    yellowLower =(30, 150, 100)\n",
    "    yellowUpper = (50, 255, 255)\n",
    "\n",
    "    #define a mask using the lower and upper bounds of the yellow color \n",
    "    mask = cv2.inRange(hsv_image, lower_bound_color, upper_bound_color)\n",
    "\n",
    "    return mask\n",
    "\n",
    "def getContours(binary_image):      \n",
    "    #_, contours, hierarchy = cv2.findContours(binary_image, \n",
    "    #                                          cv2.RETR_TREE, \n",
    "    #                                           cv2.CHAIN_APPROX_SIMPLE)\n",
    "    contours, hierarchy = cv2.findContours(binary_image.copy(), \n",
    "                                            cv2.RETR_EXTERNAL,\n",
    "\t                                        cv2.CHAIN_APPROX_SIMPLE)\n",
    "    return contours\n",
    "\n",
    "\n",
    "def draw_ball_contour(binary_image, rgb_image, contours):\n",
    "    black_image = np.zeros([binary_image.shape[0], binary_image.shape[1],3],'uint8')\n",
    "    \n",
    "    for c in contours:\n",
    "        area = cv2.contourArea(c)\n",
    "        perimeter= cv2.arcLength(c, True)\n",
    "        ((x, y), radius) = cv2.minEnclosingCircle(c)\n",
    "        if (area>100):\n",
    "            cv2.drawContours(rgb_image, [c], -1, (150,250,150), 1)\n",
    "            cv2.drawContours(black_image, [c], -1, (150,250,150), 1)\n",
    "            cx, cy = get_contour_center(c)\n",
    "            cv2.circle(rgb_image, (cx,cy),(int)(radius),(0,0,255),1)\n",
    "            cv2.circle(black_image, (cx,cy),(int)(radius),(0,0,255),1)\n",
    "            cv2.circle(black_image, (cx,cy),5,(150,150,255),-1)\n",
    "            print (\"Area: {}, Perimeter: {}\".format(area, perimeter))\n",
    "    print (\"number of contours: {}\".format(len(contours)))\n",
    "    cv2.imshow(\"RGB Image Contours\",rgb_image)\n",
    "    cv2.imshow(\"Black Image Contours\",black_image)\n",
    "\n",
    "def get_contour_center(contour):\n",
    "    M = cv2.moments(contour)\n",
    "    cx=-1\n",
    "    cy=-1\n",
    "    if (M['m00']!=0):\n",
    "        cx= int(M['m10']/M['m00'])\n",
    "        cy= int(M['m01']/M['m00'])\n",
    "    return cx, cy\n",
    "\n",
    "def main():\n",
    "    image_name = \"C:\\Python\\ipmv\\Scripts\\Image_Processing_NoteBooks\\Images\\Tennis_Racket_and_Balls.jpg\"\n",
    "    yellowLower =(30, 150, 100)\n",
    "    yellowUpper = (50, 255, 255)\n",
    "    rgb_image = read_rgb_image(image_name, True)\n",
    "    binary_image_mask = filter_color(rgb_image, yellowLower, yellowUpper)\n",
    "    contours = getContours(binary_image_mask)\n",
    "    draw_ball_contour(binary_image_mask, rgb_image,contours)\n",
    "\n",
    "    cv2.waitKey(0)\n",
    "    cv2.destroyAllWindows()\n",
    "\n",
    "main()\n",
    "\n",
    "cv2.waitKey(0)\n",
    "cv2.destroyAllWindows()\n"
   ]
  },
  {
   "cell_type": "markdown",
   "metadata": {},
   "source": [
    "## Thumbs Up Detection"
   ]
  },
  {
   "cell_type": "markdown",
   "metadata": {},
   "source": [
    "Still working on"
   ]
  },
  {
   "cell_type": "code",
   "execution_count": 1,
   "metadata": {},
   "outputs": [],
   "source": [
    "# Thumbsup detectioin using a mask\n",
    "import cv2 as cv\n",
    "import numpy as np\n",
    "\n",
    "cap = cv.VideoCapture(0)\n",
    "\n",
    "while True:\n",
    "    \n",
    "        #Orignal frame\n",
    "        ret, frame = cap.read()\n",
    "        cv.imshow('frame', frame)\n",
    "    \n",
    "        #Convert to rgb\n",
    "        rgb = cv.cvtColor(frame, cv.COLOR_BGR2RGB)\n",
    "        cv.imshow('rgb', rgb)\n",
    "    \n",
    "        #Convert to grayscale\n",
    "        gray = cv.cvtColor(frame, cv.COLOR_BGR2GRAY)\n",
    "        cv.imshow('gray', gray)\n",
    "    \n",
    "        #Convert to binary using adaptive thresholding\n",
    "        binary = cv.adaptiveThreshold(gray, 255, cv.ADAPTIVE_THRESH_GAUSSIAN_C, cv.THRESH_BINARY_INV, 115, 2)\n",
    "        cv.imshow('binary', binary)\n",
    "    \n",
    "        #contour detection\n",
    "        contours, hierarchy = cv.findContours(binary, cv.RETR_TREE, cv.CHAIN_APPROX_SIMPLE)\n",
    "    \n",
    "        #draw contours\n",
    "        cv.drawContours(frame, contours, -1, (0,255,0), 3)\n",
    "        cv.imshow('contours', frame)\n",
    "        \n",
    "        #Add a delay of 10ms and press q to quit\n",
    "        if cv.waitKey(10) & 0xFF == ord('q'):\n",
    "            break\n",
    "\n",
    "cv.waitKey(0)\n",
    "cv.destroyAllWindows()\n",
    "\n"
   ]
  },
  {
   "cell_type": "markdown",
   "metadata": {},
   "source": [
    "## Depth of the Camera"
   ]
  },
  {
   "cell_type": "markdown",
   "metadata": {},
   "source": [
    "Tried with my webcamera and mobile phone camera. They don't give a correct result at all."
   ]
  },
  {
   "cell_type": "code",
   "execution_count": 30,
   "metadata": {},
   "outputs": [],
   "source": [
    "import cv2\n",
    "import numpy as np\n",
    "\n",
    "# Initialize the video capture with the appropriate source (e.g., 0 for the default camera).\n",
    "cap_i = cv2.VideoCapture(3)  # IRIUN camera.\n",
    "cap_f = cv2.VideoCapture(1)  # Default camera.\n",
    "\n",
    "while True:\n",
    "    ret_i, depth_frame_i = cap_i.read()  # Read a depth frame.\n",
    "    ret_f, depth_frame_f = cap_f.read()  # Read a depth frame.\n",
    "\n",
    "    depth_frame_i_gray = cv2.cvtColor(depth_frame_i, cv2.COLOR_BGR2GRAY)\n",
    "    depth_frame_f_gray = cv2.cvtColor(depth_frame_f, cv2.COLOR_BGR2GRAY)\n",
    "\n",
    "    stereo = cv2.StereoBM.create(numDisparities=16, blockSize=15)\n",
    "    disparity = stereo.compute(depth_frame_f_gray,depth_frame_i_gray)\n",
    "\n",
    "    # Display the depth frame and its colormap.\n",
    "    cv2.imshow('IRIUN Camera', depth_frame_i)\n",
    "    cv2.imshow('Front Web Camera', depth_frame_f)\n",
    "    cv2.imshow('Disparity', disparity)\n",
    "\n",
    "    if cv2.waitKey(1) & 0xFF == ord('q'):\n",
    "        break\n",
    "\n",
    "cap.release()\n",
    "cv2.destroyAllWindows()\n"
   ]
  },
  {
   "cell_type": "markdown",
   "metadata": {},
   "source": []
  }
 ],
 "metadata": {
  "kernelspec": {
   "display_name": "Python 3",
   "language": "python",
   "name": "python3"
  },
  "language_info": {
   "codemirror_mode": {
    "name": "ipython",
    "version": 3
   },
   "file_extension": ".py",
   "mimetype": "text/x-python",
   "name": "python",
   "nbconvert_exporter": "python",
   "pygments_lexer": "ipython3",
   "version": "3.11.4"
  },
  "orig_nbformat": 4
 },
 "nbformat": 4,
 "nbformat_minor": 2
}
